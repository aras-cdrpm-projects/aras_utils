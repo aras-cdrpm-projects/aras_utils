{
 "cells": [
  {
   "cell_type": "code",
   "execution_count": 5,
   "metadata": {},
   "outputs": [],
   "source": [
    "import rospy\n",
    "import rosbag\n",
    "import pandas as pd\n",
    "import numpy as np\n",
    "from ARAS_ROBOTICS.msg import aras_imu"
   ]
  },
  {
   "cell_type": "code",
   "execution_count": 33,
   "metadata": {},
   "outputs": [],
   "source": [
    "bag= rosbag.Bag('SR_IMU_CALIBRATION_DATA.bag')"
   ]
  },
  {
   "cell_type": "code",
   "execution_count": 61,
   "metadata": {},
   "outputs": [],
   "source": [
    "data=np.zeros((bag.get_message_count(),7))"
   ]
  },
  {
   "cell_type": "code",
   "execution_count": 74,
   "metadata": {},
   "outputs": [],
   "source": [
    "for n,(topic, msg, t) in enumerate(bag.read_messages(topics='/sr_imu')):\n",
    "    data[n,0]=t.to_sec()\n",
    "    data[n,1]=msg.acceleration.x\n",
    "    data[n,2]=msg.acceleration.y\n",
    "    data[n,3]=msg.acceleration.z\n",
    "    \n",
    "    data[n,4]=msg.angular_velocity.x\n",
    "    data[n,5]=msg.angular_velocity.y\n",
    "    data[n,6]=msg.angular_velocity.z\n",
    "\n",
    "    #bag.close()"
   ]
  },
  {
   "cell_type": "code",
   "execution_count": 76,
   "metadata": {},
   "outputs": [],
   "source": [
    "df=pd.DataFrame(columns=['time','ax','ay','az','wx','wy','wz'],data=data)"
   ]
  },
  {
   "cell_type": "code",
   "execution_count": 77,
   "metadata": {},
   "outputs": [
    {
     "data": {
      "text/html": [
       "<div>\n",
       "<style scoped>\n",
       "    .dataframe tbody tr th:only-of-type {\n",
       "        vertical-align: middle;\n",
       "    }\n",
       "\n",
       "    .dataframe tbody tr th {\n",
       "        vertical-align: top;\n",
       "    }\n",
       "\n",
       "    .dataframe thead th {\n",
       "        text-align: right;\n",
       "    }\n",
       "</style>\n",
       "<table border=\"1\" class=\"dataframe\">\n",
       "  <thead>\n",
       "    <tr style=\"text-align: right;\">\n",
       "      <th></th>\n",
       "      <th>time</th>\n",
       "      <th>ax</th>\n",
       "      <th>ay</th>\n",
       "      <th>az</th>\n",
       "      <th>wx</th>\n",
       "      <th>wy</th>\n",
       "      <th>wz</th>\n",
       "    </tr>\n",
       "  </thead>\n",
       "  <tbody>\n",
       "    <tr>\n",
       "      <th>0</th>\n",
       "      <td>1.565077e+09</td>\n",
       "      <td>218.0</td>\n",
       "      <td>-174.0</td>\n",
       "      <td>8142.0</td>\n",
       "      <td>-81.0</td>\n",
       "      <td>-44.0</td>\n",
       "      <td>-6.0</td>\n",
       "    </tr>\n",
       "    <tr>\n",
       "      <th>1</th>\n",
       "      <td>1.565077e+09</td>\n",
       "      <td>214.0</td>\n",
       "      <td>-166.0</td>\n",
       "      <td>8130.0</td>\n",
       "      <td>-82.0</td>\n",
       "      <td>-45.0</td>\n",
       "      <td>-3.0</td>\n",
       "    </tr>\n",
       "    <tr>\n",
       "      <th>2</th>\n",
       "      <td>1.565077e+09</td>\n",
       "      <td>186.0</td>\n",
       "      <td>-160.0</td>\n",
       "      <td>8120.0</td>\n",
       "      <td>-83.0</td>\n",
       "      <td>-43.0</td>\n",
       "      <td>-3.0</td>\n",
       "    </tr>\n",
       "    <tr>\n",
       "      <th>3</th>\n",
       "      <td>1.565077e+09</td>\n",
       "      <td>224.0</td>\n",
       "      <td>-174.0</td>\n",
       "      <td>8168.0</td>\n",
       "      <td>-90.0</td>\n",
       "      <td>-45.0</td>\n",
       "      <td>-6.0</td>\n",
       "    </tr>\n",
       "    <tr>\n",
       "      <th>4</th>\n",
       "      <td>1.565077e+09</td>\n",
       "      <td>240.0</td>\n",
       "      <td>-168.0</td>\n",
       "      <td>8146.0</td>\n",
       "      <td>-88.0</td>\n",
       "      <td>-45.0</td>\n",
       "      <td>-8.0</td>\n",
       "    </tr>\n",
       "  </tbody>\n",
       "</table>\n",
       "</div>"
      ],
      "text/plain": [
       "           time     ax     ay      az    wx    wy   wz\n",
       "0  1.565077e+09  218.0 -174.0  8142.0 -81.0 -44.0 -6.0\n",
       "1  1.565077e+09  214.0 -166.0  8130.0 -82.0 -45.0 -3.0\n",
       "2  1.565077e+09  186.0 -160.0  8120.0 -83.0 -43.0 -3.0\n",
       "3  1.565077e+09  224.0 -174.0  8168.0 -90.0 -45.0 -6.0\n",
       "4  1.565077e+09  240.0 -168.0  8146.0 -88.0 -45.0 -8.0"
      ]
     },
     "execution_count": 77,
     "metadata": {},
     "output_type": "execute_result"
    }
   ],
   "source": [
    "df.head()"
   ]
  },
  {
   "cell_type": "code",
   "execution_count": 79,
   "metadata": {},
   "outputs": [],
   "source": [
    "df.to_csv('SR_IMU_CALIBRATION.csv',index=False)"
   ]
  },
  {
   "cell_type": "code",
   "execution_count": null,
   "metadata": {},
   "outputs": [],
   "source": []
  }
 ],
 "metadata": {
  "kernelspec": {
   "display_name": "Python 2",
   "language": "python",
   "name": "python2"
  },
  "language_info": {
   "codemirror_mode": {
    "name": "ipython",
    "version": 2
   },
   "file_extension": ".py",
   "mimetype": "text/x-python",
   "name": "python",
   "nbconvert_exporter": "python",
   "pygments_lexer": "ipython2",
   "version": "2.7.15+"
  }
 },
 "nbformat": 4,
 "nbformat_minor": 2
}
