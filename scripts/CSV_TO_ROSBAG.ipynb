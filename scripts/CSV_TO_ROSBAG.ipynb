{
 "cells": [
  {
   "cell_type": "code",
   "execution_count": 1,
   "metadata": {},
   "outputs": [],
   "source": [
    "import rospy\n",
    "import rosbag\n",
    "import pandas as pd\n",
    "from sensor_msgs.msg import Imu, NavSatFix, geometry_msgs, Range\n",
    "from cdrpm_msgs.msg import cdrpm_encoders\n",
    "df = pd.read_csv('/home/rouholla/Robotics/CDRPM_Robot/FG_FK_InitLen_Paper/Simulation_(EurRoC/simulated_3dof_lengths.csv')"
   ]
  },
  {
   "cell_type": "code",
   "execution_count": 27,
   "metadata": {},
   "outputs": [
    {
     "ename": "AttributeError",
     "evalue": "'cdrpm_encoders' object attribute 'encoders' is read-only",
     "output_type": "error",
     "traceback": [
      "\u001b[0;31m---------------------------------------------------------------------------\u001b[0m",
      "\u001b[0;31mAttributeError\u001b[0m                            Traceback (most recent call last)",
      "\u001b[0;32m<ipython-input-27-a532c1acaef8>\u001b[0m in \u001b[0;36m<module>\u001b[0;34m()\u001b[0m\n\u001b[1;32m      1\u001b[0m \u001b[0;32mwith\u001b[0m \u001b[0mrosbag\u001b[0m\u001b[0;34m.\u001b[0m\u001b[0mBag\u001b[0m\u001b[0;34m(\u001b[0m\u001b[0;34m'/home/rouholla/Robotics/CDRPM_Robot/FG_FK_InitLen_Paper/Simulation_(EurRoC/simulated_3dof_lengths.bag'\u001b[0m\u001b[0;34m,\u001b[0m \u001b[0;34m'w'\u001b[0m\u001b[0;34m)\u001b[0m \u001b[0;32mas\u001b[0m \u001b[0mbag\u001b[0m\u001b[0;34m:\u001b[0m\u001b[0;34m\u001b[0m\u001b[0;34m\u001b[0m\u001b[0m\n\u001b[1;32m      2\u001b[0m     \u001b[0;32mfor\u001b[0m \u001b[0mrow\u001b[0m \u001b[0;32min\u001b[0m \u001b[0mrange\u001b[0m\u001b[0;34m(\u001b[0m\u001b[0mdf\u001b[0m\u001b[0;34m.\u001b[0m\u001b[0mshape\u001b[0m\u001b[0;34m[\u001b[0m\u001b[0;36m0\u001b[0m\u001b[0;34m]\u001b[0m\u001b[0;34m)\u001b[0m\u001b[0;34m:\u001b[0m\u001b[0;34m\u001b[0m\u001b[0;34m\u001b[0m\u001b[0m\n\u001b[0;32m----> 3\u001b[0;31m         \u001b[0ma\u001b[0m\u001b[0;34m=\u001b[0m\u001b[0mcdrpm_encoders\u001b[0m\u001b[0;34m(\u001b[0m\u001b[0;34m)\u001b[0m\u001b[0;34m;\u001b[0m\u001b[0;34m\u001b[0m\u001b[0;34m\u001b[0m\u001b[0m\n\u001b[0m\u001b[1;32m      4\u001b[0m         \u001b[0mtimestamp\u001b[0m \u001b[0;34m=\u001b[0m \u001b[0mrospy\u001b[0m\u001b[0;34m.\u001b[0m\u001b[0mTime\u001b[0m\u001b[0;34m.\u001b[0m\u001b[0mfrom_sec\u001b[0m\u001b[0;34m(\u001b[0m\u001b[0mrow\u001b[0m\u001b[0;34m*\u001b[0m\u001b[0;36m0.005\u001b[0m\u001b[0;34m)\u001b[0m \u001b[0;31m#200Hz\u001b[0m\u001b[0;34m\u001b[0m\u001b[0;34m\u001b[0m\u001b[0m\n\u001b[1;32m      5\u001b[0m         \u001b[0;31m#Populate the data elements for IMU\u001b[0m\u001b[0;34m\u001b[0m\u001b[0;34m\u001b[0m\u001b[0;34m\u001b[0m\u001b[0m\n",
      "\u001b[0;32m/home/rouholla/myData/gtsam_fk_ws/devel/lib/python2.7/dist-packages/cdrpm_msgs/msg/_cdrpm_encoders.py\u001b[0m in \u001b[0;36m__init__\u001b[0;34m(self, *args, **kwds)\u001b[0m\n\u001b[1;32m     36\u001b[0m   \u001b[0;32mdef\u001b[0m \u001b[0m__init__\u001b[0m\u001b[0;34m(\u001b[0m\u001b[0mself\u001b[0m\u001b[0;34m,\u001b[0m \u001b[0;34m*\u001b[0m\u001b[0margs\u001b[0m\u001b[0;34m,\u001b[0m \u001b[0;34m**\u001b[0m\u001b[0mkwds\u001b[0m\u001b[0;34m)\u001b[0m\u001b[0;34m:\u001b[0m\u001b[0;34m\u001b[0m\u001b[0;34m\u001b[0m\u001b[0m\n\u001b[1;32m     37\u001b[0m     \"\"\"\n\u001b[0;32m---> 38\u001b[0;31m     \u001b[0mConstructor\u001b[0m\u001b[0;34m.\u001b[0m \u001b[0mAny\u001b[0m \u001b[0mmessage\u001b[0m \u001b[0mfields\u001b[0m \u001b[0mthat\u001b[0m \u001b[0mare\u001b[0m \u001b[0mimplicitly\u001b[0m\u001b[0;34m/\u001b[0m\u001b[0mexplicitly\u001b[0m\u001b[0;34m\u001b[0m\u001b[0;34m\u001b[0m\u001b[0m\n\u001b[0m\u001b[1;32m     39\u001b[0m     \u001b[0mset\u001b[0m \u001b[0mto\u001b[0m \u001b[0mNone\u001b[0m \u001b[0mwill\u001b[0m \u001b[0mbe\u001b[0m \u001b[0massigned\u001b[0m \u001b[0ma\u001b[0m \u001b[0mdefault\u001b[0m \u001b[0mvalue\u001b[0m\u001b[0;34m.\u001b[0m \u001b[0mThe\u001b[0m \u001b[0mrecommend\u001b[0m\u001b[0;34m\u001b[0m\u001b[0;34m\u001b[0m\u001b[0m\n\u001b[1;32m     40\u001b[0m     \u001b[0muse\u001b[0m \u001b[0;32mis\u001b[0m \u001b[0mkeyword\u001b[0m \u001b[0marguments\u001b[0m \u001b[0;32mas\u001b[0m \u001b[0mthis\u001b[0m \u001b[0;32mis\u001b[0m \u001b[0mmore\u001b[0m \u001b[0mrobust\u001b[0m \u001b[0mto\u001b[0m \u001b[0mfuture\u001b[0m \u001b[0mmessage\u001b[0m\u001b[0;34m\u001b[0m\u001b[0;34m\u001b[0m\u001b[0m\n",
      "\u001b[0;31mAttributeError\u001b[0m: 'cdrpm_encoders' object attribute 'encoders' is read-only"
     ]
    }
   ],
   "source": [
    "with rosbag.Bag('/home/rouholla/Robotics/CDRPM_Robot/FG_FK_InitLen_Paper/Simulation_(EurRoC/simulated_3dof_lengths.bag', 'w') as bag:\n",
    "    for row in range(df.shape[0]):\n",
    "        a=cdrpm_encoders()\n",
    "        timestamp = rospy.Time.from_sec(row*0.005) #200Hz\n",
    "        #Populate the data elements for IMU\n",
    "        a.encoders=[df['L1'].iloc[row],df['L2'].iloc[row],df['L3'].iloc[row],df['L4'].iloc[row]]\n",
    "        bag.write(\"/cdrpm_encoders\", a,timestamp)"
   ]
  },
  {
   "cell_type": "code",
   "execution_count": 5,
   "metadata": {},
   "outputs": [
    {
     "data": {
      "text/plain": [
       "cdrpm_msgs.msg._cdrpm_encoders.cdrpm_encoders"
      ]
     },
     "execution_count": 5,
     "metadata": {},
     "output_type": "execute_result"
    }
   ],
   "source": [
    "encoders_msg"
   ]
  },
  {
   "cell_type": "code",
   "execution_count": null,
   "metadata": {},
   "outputs": [],
   "source": [
    "encoders=cdrpm_msgs.cdrpm_encoders"
   ]
  },
  {
   "cell_type": "code",
   "execution_count": null,
   "metadata": {},
   "outputs": [],
   "source": [
    "encoders_msg"
   ]
  },
  {
   "cell_type": "code",
   "execution_count": 2,
   "metadata": {},
   "outputs": [
    {
     "data": {
      "text/plain": [
       "<member 'header' of 'cdrpm_encoders' objects>"
      ]
     },
     "execution_count": 2,
     "metadata": {},
     "output_type": "execute_result"
    }
   ],
   "source": [
    "encoders_msg=cdrpm_msgs.cdrpm_encoders\n",
    "encoders_msg.header"
   ]
  },
  {
   "cell_type": "code",
   "execution_count": null,
   "metadata": {},
   "outputs": [],
   "source": [
    "encoders_msg.header=rospy.Time.from_sec(1)"
   ]
  },
  {
   "cell_type": "code",
   "execution_count": 16,
   "metadata": {},
   "outputs": [
    {
     "data": {
      "text/plain": [
       "cdrpm_msgs.msg._cdrpm_encoders.cdrpm_encoders"
      ]
     },
     "execution_count": 16,
     "metadata": {},
     "output_type": "execute_result"
    }
   ],
   "source": [
    "a."
   ]
  },
  {
   "cell_type": "code",
   "execution_count": null,
   "metadata": {},
   "outputs": [],
   "source": []
  }
 ],
 "metadata": {
  "kernelspec": {
   "display_name": "Python 2",
   "language": "python",
   "name": "python2"
  },
  "language_info": {
   "codemirror_mode": {
    "name": "ipython",
    "version": 2
   },
   "file_extension": ".py",
   "mimetype": "text/x-python",
   "name": "python",
   "nbconvert_exporter": "python",
   "pygments_lexer": "ipython2",
   "version": "2.7.15+"
  }
 },
 "nbformat": 4,
 "nbformat_minor": 2
}
