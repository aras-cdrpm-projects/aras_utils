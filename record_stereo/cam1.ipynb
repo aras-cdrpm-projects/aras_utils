{
 "cells": [
  {
   "cell_type": "code",
   "execution_count": 1,
   "metadata": {},
   "outputs": [],
   "source": [
    "import cv2\n",
    "import numpy as np"
   ]
  },
  {
   "cell_type": "code",
   "execution_count": 2,
   "metadata": {},
   "outputs": [],
   "source": [
    "caml = cv2.VideoCapture(1)\n",
    "camr = cv2.VideoCapture(0)"
   ]
  },
  {
   "cell_type": "code",
   "execution_count": 3,
   "metadata": {
    "scrolled": true
   },
   "outputs": [
    {
     "name": "stdout",
     "output_type": "stream",
     "text": [
      "True\n",
      "True\n",
      "True\n",
      "True\n",
      "True\n",
      "True\n"
     ]
    }
   ],
   "source": [
    "fourcc = cv2.VideoWriter_fourcc(*'XVID')\n",
    "outl = cv2.VideoWriter('output_left.avi', fourcc, 50.0, (int(caml.get(3)),int(caml.get(4))))\n",
    "outr = cv2.VideoWriter('output_right.avi', fourcc, 50.0, (int(camr.get(3)),int(camr.get(4))))\n",
    "fps = 60\n",
    "print(caml.set(cv2.CAP_PROP_FRAME_WIDTH, 640))\n",
    "print(caml.set(cv2.CAP_PROP_FRAME_HEIGHT, 480))\n",
    "print(caml.set(cv2.CAP_PROP_FPS, fps))\n",
    "print(camr.set(cv2.CAP_PROP_FRAME_WIDTH, 640))\n",
    "print(camr.set(cv2.CAP_PROP_FRAME_HEIGHT, 480))\n",
    "print(camr.set(cv2.CAP_PROP_FPS, fps))\n",
    "while True:\n",
    "    retl, framel = caml.read()\n",
    "    retr, framer = camr.read()\n",
    "    frame = np.hstack([framel, framer])\n",
    "    cv2.imshow('t', frame)\n",
    "    outl.write(framel)\n",
    "    outr.write(framer)\n",
    "    if cv2.waitKey(10) & 0xFF == ord('q'):\n",
    "                break\n",
    "outr.release()\n",
    "outl.release()\n",
    "camr.release()\n",
    "caml.release()"
   ]
  },
  {
   "cell_type": "code",
   "execution_count": null,
   "metadata": {},
   "outputs": [],
   "source": []
  }
 ],
 "metadata": {
  "kernelspec": {
   "display_name": "Python 2",
   "language": "python",
   "name": "python2"
  },
  "language_info": {
   "codemirror_mode": {
    "name": "ipython",
    "version": 2
   },
   "file_extension": ".py",
   "mimetype": "text/x-python",
   "name": "python",
   "nbconvert_exporter": "python",
   "pygments_lexer": "ipython2",
   "version": "2.7.12"
  },
  "latex_envs": {
   "LaTeX_envs_menu_present": true,
   "autoclose": false,
   "autocomplete": true,
   "bibliofile": "biblio.bib",
   "cite_by": "apalike",
   "current_citInitial": 1,
   "eqLabelWithNumbers": true,
   "eqNumInitial": 1,
   "hotkeys": {
    "equation": "Ctrl-E",
    "itemize": "Ctrl-I"
   },
   "labels_anchors": false,
   "latex_user_defs": false,
   "report_style_numbering": false,
   "user_envs_cfg": false
  },
  "toc": {
   "base_numbering": 1,
   "nav_menu": {},
   "number_sections": true,
   "sideBar": true,
   "skip_h1_title": false,
   "title_cell": "Table of Contents",
   "title_sidebar": "Contents",
   "toc_cell": false,
   "toc_position": {},
   "toc_section_display": true,
   "toc_window_display": false
  }
 },
 "nbformat": 4,
 "nbformat_minor": 2
}
